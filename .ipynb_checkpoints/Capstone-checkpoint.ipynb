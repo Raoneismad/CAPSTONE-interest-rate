{
 "cells": [
  {
   "cell_type": "code",
   "execution_count": 2,
   "id": "1b181acc",
   "metadata": {},
   "outputs": [],
   "source": [
    "import pandas as pd\n",
    "import numpy as np\n",
    "import matplotlib.pyplot as plt\n",
    "import seaborn as sns\n",
    "import warnings\n",
    "warnings.filterwarnings(\"ignore\")"
   ]
  },
  {
   "cell_type": "markdown",
   "id": "99737b20",
   "metadata": {},
   "source": [
    "# Import The Data-Set"
   ]
  },
  {
   "cell_type": "code",
   "execution_count": 3,
   "id": "41e79d5d",
   "metadata": {},
   "outputs": [],
   "source": [
    "train=pd.read_excel(\"capstone_train.xlsx\")\n",
    "test=pd.read_excel(\"capstone_test.xlsx\")"
   ]
  },
  {
   "cell_type": "markdown",
   "id": "2a3cd3d4",
   "metadata": {},
   "source": [
    "# Data-Type"
   ]
  },
  {
   "cell_type": "code",
   "execution_count": 8,
   "id": "7f8d3b41",
   "metadata": {},
   "outputs": [
    {
     "name": "stdout",
     "output_type": "stream",
     "text": [
      "<class 'pandas.core.frame.DataFrame'>\n",
      "RangeIndex: 164309 entries, 0 to 164308\n",
      "Data columns (total 14 columns):\n",
      " #   Column                   Non-Null Count   Dtype  \n",
      "---  ------                   --------------   -----  \n",
      " 0   Loan_ID                  164309 non-null  float64\n",
      " 1   Loan_Amount_Requested    164309 non-null  float64\n",
      " 2   Length_Employed          156938 non-null  object \n",
      " 3   Home_Owner               138960 non-null  object \n",
      " 4   Annual_Income            139207 non-null  float64\n",
      " 5   Income_Verified          164309 non-null  object \n",
      " 6   Purpose_Of_Loan          164309 non-null  object \n",
      " 7   Debt_To_Income           164309 non-null  float64\n",
      " 8   Inquiries_Last_6Mo       164309 non-null  float64\n",
      " 9   Months_Since_Deliquency  75930 non-null   float64\n",
      " 10  Number_Open_Accounts     164309 non-null  float64\n",
      " 11  Total_Accounts           164309 non-null  float64\n",
      " 12  Gender                   164309 non-null  object \n",
      " 13  Interest_Rate            164309 non-null  float64\n",
      "dtypes: float64(9), object(5)\n",
      "memory usage: 17.6+ MB\n"
     ]
    }
   ],
   "source": [
    "train.info()"
   ]
  },
  {
   "cell_type": "code",
   "execution_count": null,
   "id": "0d2f062c",
   "metadata": {},
   "outputs": [],
   "source": [
    "#change the dtype of 'Interest_Rate' column to integers\n",
    "train['Interest_Rate'] = train['Interest_Rate'].astype(int)\n",
    "test['Interest_Rate'] = test['Interest_Rate'].astype(int)"
   ]
  },
  {
   "cell_type": "code",
   "execution_count": 76,
   "id": "76b487a5",
   "metadata": {},
   "outputs": [
    {
     "data": {
      "text/html": [
       "<div>\n",
       "<style scoped>\n",
       "    .dataframe tbody tr th:only-of-type {\n",
       "        vertical-align: middle;\n",
       "    }\n",
       "\n",
       "    .dataframe tbody tr th {\n",
       "        vertical-align: top;\n",
       "    }\n",
       "\n",
       "    .dataframe thead th {\n",
       "        text-align: right;\n",
       "    }\n",
       "</style>\n",
       "<table border=\"1\" class=\"dataframe\">\n",
       "  <thead>\n",
       "    <tr style=\"text-align: right;\">\n",
       "      <th></th>\n",
       "      <th>Loan_ID</th>\n",
       "      <th>Loan_Amount_Requested</th>\n",
       "      <th>Length_Employed</th>\n",
       "      <th>Home_Owner</th>\n",
       "      <th>Annual_Income</th>\n",
       "      <th>Income_Verified</th>\n",
       "      <th>Purpose_Of_Loan</th>\n",
       "      <th>Debt_To_Income</th>\n",
       "      <th>Inquiries_Last_6Mo</th>\n",
       "      <th>Number_Open_Accounts</th>\n",
       "      <th>Total_Accounts</th>\n",
       "      <th>Gender</th>\n",
       "      <th>Interest_Rate</th>\n",
       "    </tr>\n",
       "  </thead>\n",
       "  <tbody>\n",
       "    <tr>\n",
       "      <th>0</th>\n",
       "      <td>10000001.0</td>\n",
       "      <td>7000.0</td>\n",
       "      <td>0.0</td>\n",
       "      <td>Rent</td>\n",
       "      <td>68000.000000</td>\n",
       "      <td>not verified</td>\n",
       "      <td>car</td>\n",
       "      <td>18.37</td>\n",
       "      <td>0.0</td>\n",
       "      <td>9.0</td>\n",
       "      <td>14.0</td>\n",
       "      <td>Female</td>\n",
       "      <td>1.0</td>\n",
       "    </tr>\n",
       "    <tr>\n",
       "      <th>1</th>\n",
       "      <td>10000002.0</td>\n",
       "      <td>30000.0</td>\n",
       "      <td>4.0</td>\n",
       "      <td>Mortgage</td>\n",
       "      <td>110668.354466</td>\n",
       "      <td>VERIFIED - income</td>\n",
       "      <td>debt_consolidation</td>\n",
       "      <td>14.93</td>\n",
       "      <td>0.0</td>\n",
       "      <td>12.0</td>\n",
       "      <td>24.0</td>\n",
       "      <td>Female</td>\n",
       "      <td>3.0</td>\n",
       "    </tr>\n",
       "    <tr>\n",
       "      <th>2</th>\n",
       "      <td>10000003.0</td>\n",
       "      <td>24725.0</td>\n",
       "      <td>7.0</td>\n",
       "      <td>Mortgage</td>\n",
       "      <td>75566.400000</td>\n",
       "      <td>VERIFIED - income source</td>\n",
       "      <td>debt_consolidation</td>\n",
       "      <td>15.88</td>\n",
       "      <td>0.0</td>\n",
       "      <td>12.0</td>\n",
       "      <td>16.0</td>\n",
       "      <td>Male</td>\n",
       "      <td>3.0</td>\n",
       "    </tr>\n",
       "    <tr>\n",
       "      <th>3</th>\n",
       "      <td>10000004.0</td>\n",
       "      <td>16000.0</td>\n",
       "      <td>0.0</td>\n",
       "      <td>NoHome</td>\n",
       "      <td>56160.000000</td>\n",
       "      <td>VERIFIED - income source</td>\n",
       "      <td>debt_consolidation</td>\n",
       "      <td>14.34</td>\n",
       "      <td>3.0</td>\n",
       "      <td>16.0</td>\n",
       "      <td>22.0</td>\n",
       "      <td>Male</td>\n",
       "      <td>3.0</td>\n",
       "    </tr>\n",
       "    <tr>\n",
       "      <th>4</th>\n",
       "      <td>10000005.0</td>\n",
       "      <td>17000.0</td>\n",
       "      <td>8.0</td>\n",
       "      <td>Own</td>\n",
       "      <td>96000.000000</td>\n",
       "      <td>VERIFIED - income source</td>\n",
       "      <td>debt_consolidation</td>\n",
       "      <td>22.17</td>\n",
       "      <td>1.0</td>\n",
       "      <td>19.0</td>\n",
       "      <td>30.0</td>\n",
       "      <td>Female</td>\n",
       "      <td>1.0</td>\n",
       "    </tr>\n",
       "  </tbody>\n",
       "</table>\n",
       "</div>"
      ],
      "text/plain": [
       "      Loan_ID  Loan_Amount_Requested  Length_Employed Home_Owner  \\\n",
       "0  10000001.0                 7000.0              0.0       Rent   \n",
       "1  10000002.0                30000.0              4.0   Mortgage   \n",
       "2  10000003.0                24725.0              7.0   Mortgage   \n",
       "3  10000004.0                16000.0              0.0     NoHome   \n",
       "4  10000005.0                17000.0              8.0        Own   \n",
       "\n",
       "   Annual_Income           Income_Verified     Purpose_Of_Loan  \\\n",
       "0   68000.000000              not verified                 car   \n",
       "1  110668.354466         VERIFIED - income  debt_consolidation   \n",
       "2   75566.400000  VERIFIED - income source  debt_consolidation   \n",
       "3   56160.000000  VERIFIED - income source  debt_consolidation   \n",
       "4   96000.000000  VERIFIED - income source  debt_consolidation   \n",
       "\n",
       "   Debt_To_Income  Inquiries_Last_6Mo  Number_Open_Accounts  Total_Accounts  \\\n",
       "0           18.37                 0.0                   9.0            14.0   \n",
       "1           14.93                 0.0                  12.0            24.0   \n",
       "2           15.88                 0.0                  12.0            16.0   \n",
       "3           14.34                 3.0                  16.0            22.0   \n",
       "4           22.17                 1.0                  19.0            30.0   \n",
       "\n",
       "   Gender  Interest_Rate  \n",
       "0  Female            1.0  \n",
       "1  Female            3.0  \n",
       "2    Male            3.0  \n",
       "3    Male            3.0  \n",
       "4  Female            1.0  "
      ]
     },
     "execution_count": 76,
     "metadata": {},
     "output_type": "execute_result"
    }
   ],
   "source": [
    "train.head()"
   ]
  },
  {
   "cell_type": "markdown",
   "id": "239dc464",
   "metadata": {},
   "source": [
    "# Statistic"
   ]
  },
  {
   "cell_type": "code",
   "execution_count": 9,
   "id": "ca11526f",
   "metadata": {},
   "outputs": [
    {
     "data": {
      "text/html": [
       "<div>\n",
       "<style scoped>\n",
       "    .dataframe tbody tr th:only-of-type {\n",
       "        vertical-align: middle;\n",
       "    }\n",
       "\n",
       "    .dataframe tbody tr th {\n",
       "        vertical-align: top;\n",
       "    }\n",
       "\n",
       "    .dataframe thead th {\n",
       "        text-align: right;\n",
       "    }\n",
       "</style>\n",
       "<table border=\"1\" class=\"dataframe\">\n",
       "  <thead>\n",
       "    <tr style=\"text-align: right;\">\n",
       "      <th></th>\n",
       "      <th>count</th>\n",
       "      <th>mean</th>\n",
       "      <th>std</th>\n",
       "      <th>min</th>\n",
       "      <th>25%</th>\n",
       "      <th>50%</th>\n",
       "      <th>75%</th>\n",
       "      <th>max</th>\n",
       "    </tr>\n",
       "  </thead>\n",
       "  <tbody>\n",
       "    <tr>\n",
       "      <th>Loan_ID</th>\n",
       "      <td>164309.0</td>\n",
       "      <td>1.008216e+07</td>\n",
       "      <td>47432.067027</td>\n",
       "      <td>10000001.0</td>\n",
       "      <td>10041078.00</td>\n",
       "      <td>10082155.00</td>\n",
       "      <td>10123232.00</td>\n",
       "      <td>10164309.00</td>\n",
       "    </tr>\n",
       "    <tr>\n",
       "      <th>Loan_Amount_Requested</th>\n",
       "      <td>164309.0</td>\n",
       "      <td>1.434934e+04</td>\n",
       "      <td>8281.868700</td>\n",
       "      <td>500.0</td>\n",
       "      <td>8000.00</td>\n",
       "      <td>12075.00</td>\n",
       "      <td>20000.00</td>\n",
       "      <td>35000.00</td>\n",
       "    </tr>\n",
       "    <tr>\n",
       "      <th>Annual_Income</th>\n",
       "      <td>139207.0</td>\n",
       "      <td>7.333116e+04</td>\n",
       "      <td>60377.498294</td>\n",
       "      <td>4000.0</td>\n",
       "      <td>45000.00</td>\n",
       "      <td>63000.00</td>\n",
       "      <td>88697.50</td>\n",
       "      <td>7500000.00</td>\n",
       "    </tr>\n",
       "    <tr>\n",
       "      <th>Debt_To_Income</th>\n",
       "      <td>164309.0</td>\n",
       "      <td>1.720719e+01</td>\n",
       "      <td>7.845083</td>\n",
       "      <td>0.0</td>\n",
       "      <td>11.37</td>\n",
       "      <td>16.84</td>\n",
       "      <td>22.78</td>\n",
       "      <td>39.99</td>\n",
       "    </tr>\n",
       "    <tr>\n",
       "      <th>Inquiries_Last_6Mo</th>\n",
       "      <td>164309.0</td>\n",
       "      <td>7.816979e-01</td>\n",
       "      <td>1.034747</td>\n",
       "      <td>0.0</td>\n",
       "      <td>0.00</td>\n",
       "      <td>0.00</td>\n",
       "      <td>1.00</td>\n",
       "      <td>8.00</td>\n",
       "    </tr>\n",
       "    <tr>\n",
       "      <th>Months_Since_Deliquency</th>\n",
       "      <td>75930.0</td>\n",
       "      <td>3.422936e+01</td>\n",
       "      <td>21.761180</td>\n",
       "      <td>0.0</td>\n",
       "      <td>16.00</td>\n",
       "      <td>31.00</td>\n",
       "      <td>50.00</td>\n",
       "      <td>180.00</td>\n",
       "    </tr>\n",
       "    <tr>\n",
       "      <th>Number_Open_Accounts</th>\n",
       "      <td>164309.0</td>\n",
       "      <td>1.119382e+01</td>\n",
       "      <td>4.991813</td>\n",
       "      <td>0.0</td>\n",
       "      <td>8.00</td>\n",
       "      <td>10.00</td>\n",
       "      <td>14.00</td>\n",
       "      <td>76.00</td>\n",
       "    </tr>\n",
       "    <tr>\n",
       "      <th>Total_Accounts</th>\n",
       "      <td>164309.0</td>\n",
       "      <td>2.506767e+01</td>\n",
       "      <td>11.583067</td>\n",
       "      <td>2.0</td>\n",
       "      <td>17.00</td>\n",
       "      <td>23.00</td>\n",
       "      <td>32.00</td>\n",
       "      <td>156.00</td>\n",
       "    </tr>\n",
       "    <tr>\n",
       "      <th>Interest_Rate</th>\n",
       "      <td>164309.0</td>\n",
       "      <td>2.158951e+00</td>\n",
       "      <td>0.738364</td>\n",
       "      <td>1.0</td>\n",
       "      <td>2.00</td>\n",
       "      <td>2.00</td>\n",
       "      <td>3.00</td>\n",
       "      <td>3.00</td>\n",
       "    </tr>\n",
       "  </tbody>\n",
       "</table>\n",
       "</div>"
      ],
      "text/plain": [
       "                            count          mean           std         min  \\\n",
       "Loan_ID                  164309.0  1.008216e+07  47432.067027  10000001.0   \n",
       "Loan_Amount_Requested    164309.0  1.434934e+04   8281.868700       500.0   \n",
       "Annual_Income            139207.0  7.333116e+04  60377.498294      4000.0   \n",
       "Debt_To_Income           164309.0  1.720719e+01      7.845083         0.0   \n",
       "Inquiries_Last_6Mo       164309.0  7.816979e-01      1.034747         0.0   \n",
       "Months_Since_Deliquency   75930.0  3.422936e+01     21.761180         0.0   \n",
       "Number_Open_Accounts     164309.0  1.119382e+01      4.991813         0.0   \n",
       "Total_Accounts           164309.0  2.506767e+01     11.583067         2.0   \n",
       "Interest_Rate            164309.0  2.158951e+00      0.738364         1.0   \n",
       "\n",
       "                                 25%          50%          75%          max  \n",
       "Loan_ID                  10041078.00  10082155.00  10123232.00  10164309.00  \n",
       "Loan_Amount_Requested        8000.00     12075.00     20000.00     35000.00  \n",
       "Annual_Income               45000.00     63000.00     88697.50   7500000.00  \n",
       "Debt_To_Income                 11.37        16.84        22.78        39.99  \n",
       "Inquiries_Last_6Mo              0.00         0.00         1.00         8.00  \n",
       "Months_Since_Deliquency        16.00        31.00        50.00       180.00  \n",
       "Number_Open_Accounts            8.00        10.00        14.00        76.00  \n",
       "Total_Accounts                 17.00        23.00        32.00       156.00  \n",
       "Interest_Rate                   2.00         2.00         3.00         3.00  "
      ]
     },
     "execution_count": 9,
     "metadata": {},
     "output_type": "execute_result"
    }
   ],
   "source": [
    "train.describe().T"
   ]
  },
  {
   "cell_type": "markdown",
   "id": "5a2b0a24",
   "metadata": {},
   "source": [
    "# Size"
   ]
  },
  {
   "cell_type": "code",
   "execution_count": 6,
   "id": "dfbc0d2d",
   "metadata": {},
   "outputs": [
    {
     "name": "stdout",
     "output_type": "stream",
     "text": [
      "There are 164309 Row and 14 Columns is the Data-set\n"
     ]
    }
   ],
   "source": [
    "r,c=train.shape\n",
    "print(\"There are {} Row and {} Columns is the Data-set\".format(r,c))"
   ]
  },
  {
   "cell_type": "markdown",
   "id": "89114487",
   "metadata": {},
   "source": [
    "# Missing  Values"
   ]
  },
  {
   "cell_type": "code",
   "execution_count": 7,
   "id": "ad5c3afe",
   "metadata": {},
   "outputs": [
    {
     "data": {
      "text/html": [
       "<div>\n",
       "<style scoped>\n",
       "    .dataframe tbody tr th:only-of-type {\n",
       "        vertical-align: middle;\n",
       "    }\n",
       "\n",
       "    .dataframe tbody tr th {\n",
       "        vertical-align: top;\n",
       "    }\n",
       "\n",
       "    .dataframe thead th {\n",
       "        text-align: right;\n",
       "    }\n",
       "</style>\n",
       "<table border=\"1\" class=\"dataframe\">\n",
       "  <thead>\n",
       "    <tr style=\"text-align: right;\">\n",
       "      <th></th>\n",
       "      <th>Total</th>\n",
       "      <th>Percentage of Missing Values</th>\n",
       "    </tr>\n",
       "  </thead>\n",
       "  <tbody>\n",
       "    <tr>\n",
       "      <th>Months_Since_Deliquency</th>\n",
       "      <td>88379</td>\n",
       "      <td>53.788289</td>\n",
       "    </tr>\n",
       "    <tr>\n",
       "      <th>Home_Owner</th>\n",
       "      <td>25349</td>\n",
       "      <td>15.427639</td>\n",
       "    </tr>\n",
       "    <tr>\n",
       "      <th>Annual_Income</th>\n",
       "      <td>25102</td>\n",
       "      <td>15.277313</td>\n",
       "    </tr>\n",
       "    <tr>\n",
       "      <th>Length_Employed</th>\n",
       "      <td>7371</td>\n",
       "      <td>4.486060</td>\n",
       "    </tr>\n",
       "    <tr>\n",
       "      <th>Loan_ID</th>\n",
       "      <td>0</td>\n",
       "      <td>0.000000</td>\n",
       "    </tr>\n",
       "    <tr>\n",
       "      <th>Loan_Amount_Requested</th>\n",
       "      <td>0</td>\n",
       "      <td>0.000000</td>\n",
       "    </tr>\n",
       "    <tr>\n",
       "      <th>Income_Verified</th>\n",
       "      <td>0</td>\n",
       "      <td>0.000000</td>\n",
       "    </tr>\n",
       "    <tr>\n",
       "      <th>Purpose_Of_Loan</th>\n",
       "      <td>0</td>\n",
       "      <td>0.000000</td>\n",
       "    </tr>\n",
       "    <tr>\n",
       "      <th>Debt_To_Income</th>\n",
       "      <td>0</td>\n",
       "      <td>0.000000</td>\n",
       "    </tr>\n",
       "    <tr>\n",
       "      <th>Inquiries_Last_6Mo</th>\n",
       "      <td>0</td>\n",
       "      <td>0.000000</td>\n",
       "    </tr>\n",
       "    <tr>\n",
       "      <th>Number_Open_Accounts</th>\n",
       "      <td>0</td>\n",
       "      <td>0.000000</td>\n",
       "    </tr>\n",
       "    <tr>\n",
       "      <th>Total_Accounts</th>\n",
       "      <td>0</td>\n",
       "      <td>0.000000</td>\n",
       "    </tr>\n",
       "    <tr>\n",
       "      <th>Gender</th>\n",
       "      <td>0</td>\n",
       "      <td>0.000000</td>\n",
       "    </tr>\n",
       "    <tr>\n",
       "      <th>Interest_Rate</th>\n",
       "      <td>0</td>\n",
       "      <td>0.000000</td>\n",
       "    </tr>\n",
       "  </tbody>\n",
       "</table>\n",
       "</div>"
      ],
      "text/plain": [
       "                         Total  Percentage of Missing Values\n",
       "Months_Since_Deliquency  88379                     53.788289\n",
       "Home_Owner               25349                     15.427639\n",
       "Annual_Income            25102                     15.277313\n",
       "Length_Employed           7371                      4.486060\n",
       "Loan_ID                      0                      0.000000\n",
       "Loan_Amount_Requested        0                      0.000000\n",
       "Income_Verified              0                      0.000000\n",
       "Purpose_Of_Loan              0                      0.000000\n",
       "Debt_To_Income               0                      0.000000\n",
       "Inquiries_Last_6Mo           0                      0.000000\n",
       "Number_Open_Accounts         0                      0.000000\n",
       "Total_Accounts               0                      0.000000\n",
       "Gender                       0                      0.000000\n",
       "Interest_Rate                0                      0.000000"
      ]
     },
     "execution_count": 7,
     "metadata": {},
     "output_type": "execute_result"
    }
   ],
   "source": [
    "#sum of total missing values and sort to desending\n",
    "Total = train.isnull().sum().sort_values(ascending=False)          \n",
    "#total in percent of missing value\n",
    "Percent = (train.isnull().sum()*100/train.isnull().count()).sort_values(ascending=False)   \n",
    "#create a Dataframe to show missing value sum and precent format \n",
    "missing_data = pd.concat([Total, Percent], axis = 1, keys = ['Total', 'Percentage of Missing Values'])    \n",
    "missing_data"
   ]
  },
  {
   "cell_type": "code",
   "execution_count": 11,
   "id": "c5034415",
   "metadata": {},
   "outputs": [
    {
     "name": "stdout",
     "output_type": "stream",
     "text": [
      "Total Missing Null in data-set is: 146201\n"
     ]
    }
   ],
   "source": [
    "print(\"Total Missing Null in data-set is:\",train.isnull().sum().sum())"
   ]
  },
  {
   "cell_type": "code",
   "execution_count": 10,
   "id": "aa70e05f",
   "metadata": {},
   "outputs": [
    {
     "name": "stdout",
     "output_type": "stream",
     "text": [
      "6.36 % of Total Missing Value\n"
     ]
    }
   ],
   "source": [
    "n=np.round(train.isnull().sum().sum()/(train.shape[0]*train.shape[1])*100,2) \n",
    "print(n,\"% of Total Missing Value\")"
   ]
  },
  {
   "cell_type": "markdown",
   "id": "4a7896b4",
   "metadata": {},
   "source": [
    "# Balance Of Target Variable"
   ]
  },
  {
   "cell_type": "code",
   "execution_count": 12,
   "id": "ed3635cc",
   "metadata": {},
   "outputs": [
    {
     "data": {
      "text/plain": [
       "2.0    70580\n",
       "3.0    59923\n",
       "1.0    33806\n",
       "Name: Interest_Rate, dtype: int64"
      ]
     },
     "execution_count": 12,
     "metadata": {},
     "output_type": "execute_result"
    }
   ],
   "source": [
    "train.Interest_Rate.value_counts()"
   ]
  },
  {
   "cell_type": "code",
   "execution_count": 13,
   "id": "69eb78ef",
   "metadata": {
    "scrolled": true
   },
   "outputs": [
    {
     "data": {
      "text/plain": [
       "<AxesSubplot:xlabel='Interest_Rate', ylabel='count'>"
      ]
     },
     "execution_count": 13,
     "metadata": {},
     "output_type": "execute_result"
    },
    {
     "data": {
      "image/png": "[encoded data removed]",
      "text/plain": [
       "<Figure size 432x288 with 1 Axes>"
      ]
     },
     "metadata": {
      "needs_background": "light"
     },
     "output_type": "display_data"
    }
   ],
   "source": [
    "sns.countplot(train.Interest_Rate)"
   ]
  },
  {
   "cell_type": "markdown",
   "id": "28a5e83c",
   "metadata": {},
   "source": [
    "# Skewness"
   ]
  },
  {
   "cell_type": "code",
   "execution_count": 14,
   "id": "b6d2d585",
   "metadata": {
    "scrolled": false
   },
   "outputs": [
    {
     "data": {
      "image/png": "[encoded data removed]",
      "text/plain": [
       "<Figure size 1800x1080 with 9 Axes>"
      ]
     },
     "metadata": {
      "needs_background": "light"
     },
     "output_type": "display_data"
    }
   ],
   "source": [
    "numeric_cols = train.select_dtypes(include=['float', 'int']).columns.tolist()\n",
    "'''\n",
    "# plot histograms for all numeric columns\n",
    "for col in numeric_cols:\n",
    "    plt.hist(df[col], bins=20)\n",
    "    plt.title(col)\n",
    "    plt.show()\n",
    "    '''\n",
    "fig,ax=plt.subplots(3,3,figsize=(25,15))\n",
    "for c,i in zip(numeric_cols,ax.flatten()):\n",
    "    sns.distplot(train[c],ax=i)\n",
    "    plt.xlabel(c)\n",
    "plt.show()"
   ]
  },
  {
   "cell_type": "code",
   "execution_count": 13,
   "id": "23e7fcea",
   "metadata": {},
   "outputs": [
    {
     "data": {
      "text/plain": [
       "Loan_ID                   -3.481617e-16\n",
       "Loan_Amount_Requested      7.281712e-01\n",
       "Annual_Income              3.686797e+01\n",
       "Debt_To_Income             1.921321e-01\n",
       "Inquiries_Last_6Mo         1.545926e+00\n",
       "Months_Since_Deliquency    4.661013e-01\n",
       "Number_Open_Accounts       1.161028e+00\n",
       "Total_Accounts             8.197533e-01\n",
       "Interest_Rate             -2.609325e-01\n",
       "dtype: float64"
      ]
     },
     "execution_count": 13,
     "metadata": {},
     "output_type": "execute_result"
    }
   ],
   "source": [
    "train.skew()"
   ]
  },
  {
   "cell_type": "markdown",
   "id": "c2608e9b",
   "metadata": {},
   "source": [
    "# Outlier"
   ]
  },
  {
   "cell_type": "code",
   "execution_count": 14,
   "id": "3c4a846e",
   "metadata": {},
   "outputs": [
    {
     "data": {
      "image/png": "[encoded data removed]",
      "text/plain": [
       "<Figure size 1800x1080 with 9 Axes>"
      ]
     },
     "metadata": {
      "needs_background": "light"
     },
     "output_type": "display_data"
    }
   ],
   "source": [
    "fig,ax=plt.subplots(3,3,figsize=(25,15))\n",
    "for c,i in zip(numeric_cols,ax.flatten()):\n",
    "    sns.boxplot(train[c],ax=i)\n",
    "    plt.xlabel(c)\n",
    "plt.show()"
   ]
  },
  {
   "cell_type": "markdown",
   "id": "f3e8b5e6",
   "metadata": {},
   "source": [
    "## Covert string into int 'Length_Employed'"
   ]
  },
  {
   "cell_type": "code",
   "execution_count": 16,
   "id": "b9420a67",
   "metadata": {},
   "outputs": [],
   "source": [
    "def ln_emp(x):\n",
    "    if x == '1 year':\n",
    "        x =1\n",
    "    elif x == '10+ years':\n",
    "        x = 11\n",
    "    elif x =='2 years':\n",
    "        x=2\n",
    "    elif x == '3 years':\n",
    "        x =3\n",
    "    elif x == '4 years':\n",
    "        x =4\n",
    "    elif x == '5 years':\n",
    "        x =5\n",
    "    elif x == '6 years':\n",
    "        x =6\n",
    "    elif x == '7 years':\n",
    "        x =7\n",
    "    elif x == '8 years':\n",
    "        x =8\n",
    "    elif x == '9 years':\n",
    "        x =9\n",
    "    elif x == '< 1 year':\n",
    "        x =0\n",
    "    return(x) \n",
    "train.Length_Employed = train.Length_Employed.apply(ln_emp)\n",
    "#test.Length_Employed = train.Length_Employed.apply(ln_emp)"
   ]
  },
  {
   "cell_type": "markdown",
   "id": "43596427",
   "metadata": {},
   "source": [
    "# Handle The Missing Value"
   ]
  },
  {
   "cell_type": "markdown",
   "id": "f457f85e",
   "metadata": {},
   "source": [
    "### 'Annual_Income' Predict the missing value with LinearRegression model"
   ]
  },
  {
   "cell_type": "code",
   "execution_count": 19,
   "id": "9bcd2e6e",
   "metadata": {},
   "outputs": [],
   "source": [
    "from sklearn.linear_model import LinearRegression\n",
    "\n",
    "# Separate the dataframe into two subsets, one with non-missing Annual_Income values and one with missing Annual_Income values\n",
    "train_df_with_income = train[train['Annual_Income'].notnull()]\n",
    "train_df_missing_income = train[train['Annual_Income'].isnull()]\n",
    "\n",
    "# Use the other features in the dataset to train a linear regression model to predict Annual_Income\n",
    "features = ['Loan_Amount_Requested', 'Debt_To_Income', 'Inquiries_Last_6Mo', 'Number_Open_Accounts', 'Total_Accounts']\n",
    "X_train = train_df_with_income[features]\n",
    "y_train = train_df_with_income['Annual_Income']\n",
    "reg = LinearRegression().fit(X_train, y_train)\n",
    "\n",
    "# Predict the missing Annual_Income values using the trained regression model\n",
    "X_missing = train_df_missing_income[features]\n",
    "predicted_income = reg.predict(X_missing)\n",
    "\n",
    "# Fill in the missing Annual_Income values with the predicted values\n",
    "train.loc[train['Annual_Income'].isnull(), 'Annual_Income'] = predicted_income"
   ]
  },
  {
   "cell_type": "raw",
   "id": "8842e947",
   "metadata": {},
   "source": [
    "'''from sklearn.linear_model import LinearRegression\n",
    "\n",
    "# Separate the dataframe into two subsets, one with non-missing Annual_Income values and one with missing Annual_Income values\n",
    "train_df_with_income = test[test['Annual_Income'].notnull()]\n",
    "train_df_missing_income = test[test['Annual_Income'].isnull()]\n",
    "\n",
    "# Use the other features in the dataset to train a linear regression model to predict Annual_Income\n",
    "features = ['Loan_Amount_Requested', 'Debt_To_Income', 'Inquiries_Last_6Mo', 'Number_Open_Accounts', 'Total_Accounts']\n",
    "X_train = train_df_with_income[features]\n",
    "y_train = train_df_with_income['Annual_Income']\n",
    "reg = LinearRegression().fit(X_train, y_train)\n",
    "\n",
    "# Predict the missing Annual_Income values using the trained regression model\n",
    "X_missing = train_df_missing_income[features]\n",
    "predicted_income = reg.predict(X_missing)\n",
    "\n",
    "# Fill in the missing Annual_Income values with the predicted values\n",
    "train.loc[train['Annual_Income'].isnull(), 'Annual_Income'] = predicted_income'''"
   ]
  },
  {
   "cell_type": "markdown",
   "id": "0e2e5e2e",
   "metadata": {},
   "source": [
    "### 'Home_Owner' Create a new value and fill all Null value in that"
   ]
  },
  {
   "cell_type": "code",
   "execution_count": 24,
   "id": "74ee8536",
   "metadata": {},
   "outputs": [
    {
     "data": {
      "text/plain": [
       "array(['Rent', 'Mortgage', nan, 'Own', 'Other', 'None'], dtype=object)"
      ]
     },
     "execution_count": 24,
     "metadata": {},
     "output_type": "execute_result"
    }
   ],
   "source": [
    "train.Home_Owner.unique()"
   ]
  },
  {
   "cell_type": "code",
   "execution_count": 49,
   "id": "ceef6bf6",
   "metadata": {},
   "outputs": [],
   "source": [
    "train['Home_Owner'].fillna('NoHome',inplace=True)\n",
    "#test['Home_Owner'].fillna('NoHome',inplace=True)"
   ]
  },
  {
   "cell_type": "markdown",
   "id": "052f4de5",
   "metadata": {},
   "source": [
    "### 'Length_Employed' Hand the null value"
   ]
  },
  {
   "cell_type": "code",
   "execution_count": 51,
   "id": "493eef84",
   "metadata": {},
   "outputs": [],
   "source": [
    "# Filling the 'Length_Employed' with Median \n",
    "train['Length_Employed'].fillna(train['Length_Employed'].median(),inplace=True)\n",
    "#test['Length_Employed'].fillna(train['Length_Employed'].median(),inplace=True)"
   ]
  },
  {
   "cell_type": "markdown",
   "id": "d5750314",
   "metadata": {},
   "source": [
    "## Droping the columns"
   ]
  },
  {
   "cell_type": "code",
   "execution_count": 56,
   "id": "11b2f448",
   "metadata": {},
   "outputs": [],
   "source": [
    "#Months_Since_Deliquency : it have 54% missing value \n",
    "train=train.drop('Months_Since_Deliquency',axis=1)\n",
    "#test=train.drop('Months_Since_Deliquency',axis=1)"
   ]
  },
  {
   "cell_type": "code",
   "execution_count": null,
   "id": "1eac4cb8",
   "metadata": {},
   "outputs": [],
   "source": [
    "#Loan_ID : This is a unique identifier for each order and does not provide any information that can help with the prediction task.\n",
    "train=train.drop('Loan_ID',axis=1)"
   ]
  },
  {
   "cell_type": "markdown",
   "id": "c3b11e2a",
   "metadata": {},
   "source": [
    "# Base Model With Outlier"
   ]
  },
  {
   "cell_type": "code",
   "execution_count": 72,
   "id": "3f020fc4",
   "metadata": {},
   "outputs": [
    {
     "name": "stdout",
     "output_type": "stream",
     "text": [
      "Testing accuracy: 0.462\n"
     ]
    }
   ],
   "source": [
    "from sklearn.linear_model import LogisticRegression\n",
    "from sklearn.model_selection import train_test_split\n",
    "\n",
    "# Define the categorical columns to encode\n",
    "cat_cols = train.select_dtypes(include=['object']).columns.tolist()\n",
    "\n",
    "# One-hot encode the categorical variables\n",
    "df_encoded = pd.get_dummies(train, columns=cat_cols, drop_first=True)\n",
    "x=df_encoded.drop('Interest_Rate', axis=1)\n",
    "y=df_encoded['Interest_Rate']\n",
    "# Split the dataset into training and testing sets\n",
    "xtrain, xtest, ytrain, ytest = train_test_split(x,y, test_size=0.2, random_state=42)\n",
    "\n",
    "# Train a logistic regression model\n",
    "lr = LogisticRegression()\n",
    "lr.fit(xtrain, ytrain)\n",
    "\n",
    "# Evaluate the model on the testing set\n",
    "accuracy = lr.score(xtest, ytest)\n",
    "print(f'Testing accuracy: {accuracy:.3f}')"
   ]
  },
  {
   "cell_type": "code",
   "execution_count": 73,
   "id": "df6495ca",
   "metadata": {},
   "outputs": [
    {
     "name": "stdout",
     "output_type": "stream",
     "text": [
      "              precision    recall  f1-score   support\n",
      "\n",
      "         1.0       0.27      0.01      0.01      6721\n",
      "         2.0       0.45      0.76      0.57     14018\n",
      "         3.0       0.49      0.37      0.42     12123\n",
      "\n",
      "    accuracy                           0.46     32862\n",
      "   macro avg       0.40      0.38      0.33     32862\n",
      "weighted avg       0.43      0.46      0.40     32862\n",
      "\n"
     ]
    }
   ],
   "source": [
    "from sklearn.metrics import classification_report\n",
    "y_pred = lr.predict(xtest)\n",
    "print(classification_report(ytest, y_pred))"
   ]
  },
  {
   "cell_type": "code",
   "execution_count": 75,
   "id": "93d721b1",
   "metadata": {},
   "outputs": [
    {
     "name": "stdout",
     "output_type": "stream",
     "text": [
      "              precision    recall  f1-score   support\n",
      "\n",
      "         1.0       0.35      0.27      0.30      6721\n",
      "         2.0       0.46      0.55      0.50     14018\n",
      "         3.0       0.52      0.47      0.49     12123\n",
      "\n",
      "    accuracy                           0.46     32862\n",
      "   macro avg       0.44      0.43      0.43     32862\n",
      "weighted avg       0.46      0.46      0.46     32862\n",
      "\n"
     ]
    }
   ],
   "source": [
    "from sklearn.ensemble import RandomForestClassifier\n",
    "rf_classification = RandomForestClassifier(n_estimators=10,random_state=10)\n",
    "\n",
    "#use fit() to fit the model on the train set\n",
    "rf_model =rf_classification.fit(xtrain,ytrain)\n",
    "test_pred=rf_model.predict(xtest)\n",
    "print(classification_report(ytest,test_pred))"
   ]
  },
  {
   "cell_type": "code",
   "execution_count": null,
   "id": "5b1ac5c5",
   "metadata": {},
   "outputs": [],
   "source": []
  }
 ],
 "metadata": {
  "kernelspec": {
   "display_name": "Python 3 (ipykernel)",
   "language": "python",
   "name": "python3"
  },
  "language_info": {
   "codemirror_mode": {
    "name": "ipython",
    "version": 3
   },
   "file_extension": ".py",
   "mimetype": "text/x-python",
   "name": "python",
   "nbconvert_exporter": "python",
   "pygments_lexer": "ipython3",
   "version": "3.9.7"
  }
 },
 "nbformat": 4,
 "nbformat_minor": 5
}
